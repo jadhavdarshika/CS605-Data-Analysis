{
 "cells": [
  {
   "cell_type": "code",
   "execution_count": 13,
   "id": "a1c08e5c",
   "metadata": {},
   "outputs": [],
   "source": [
    "import pandas as pd"
   ]
  },
  {
   "cell_type": "code",
   "execution_count": 14,
   "id": "58b2c359",
   "metadata": {},
   "outputs": [],
   "source": [
    "# Load the dataset\n",
    "df = pd.read_csv('Facebook Users by Country Data.csv')"
   ]
  },
  {
   "cell_type": "code",
   "execution_count": 15,
   "id": "44b0e52f",
   "metadata": {},
   "outputs": [
    {
     "name": "stdout",
     "output_type": "stream",
     "text": [
      "Top five countries with most number of users:\n",
      "             Name         Users\n",
      "0          India  4.165878e+08\n",
      "1  United States  2.400036e+08\n",
      "2      Indonesia  1.765117e+08\n",
      "3         Brazil  1.390081e+08\n",
      "4    Philippines  9.099513e+07\n"
     ]
    }
   ],
   "source": [
    "# Top five countries with most number of users\n",
    "top_five = df.sort_values('Users', ascending=False).head(5)\n",
    "print('Top five countries with most number of users:\\n', top_five[['Name', 'Users']])"
   ]
  },
  {
   "cell_type": "code",
   "execution_count": 16,
   "id": "a829e265",
   "metadata": {},
   "outputs": [
    {
     "name": "stdout",
     "output_type": "stream",
     "text": [
      "Top five countries with least number of users:\n",
      "              Name      Users\n",
      "225       Tokelau   410.0238\n",
      "224  Vatican City   799.0150\n",
      "223          Niue   820.0530\n",
      "222    Montserrat  2600.0208\n",
      "221  Cook Islands  2699.7696\n"
     ]
    }
   ],
   "source": [
    "# Top five countries with least number of users\n",
    "bottom_five = df.sort_values('Users', ascending=True).head(5)\n",
    "print('Top five countries with least number of users:\\n', bottom_five[['Name', 'Users']])"
   ]
  }
 ],
 "metadata": {
  "kernelspec": {
   "display_name": "Python 3 (ipykernel)",
   "language": "python",
   "name": "python3"
  },
  "language_info": {
   "codemirror_mode": {
    "name": "ipython",
    "version": 3
   },
   "file_extension": ".py",
   "mimetype": "text/x-python",
   "name": "python",
   "nbconvert_exporter": "python",
   "pygments_lexer": "ipython3",
   "version": "3.9.13"
  }
 },
 "nbformat": 4,
 "nbformat_minor": 5
}

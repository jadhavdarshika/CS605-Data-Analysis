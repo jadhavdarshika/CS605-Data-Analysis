{
 "cells": [
  {
   "cell_type": "code",
   "execution_count": null,
   "id": "03232117",
   "metadata": {},
   "outputs": [],
   "source": [
    "import pandas as pd\n",
    "import matplotlib.pyplot as plt"
   ]
  },
  {
   "cell_type": "code",
   "execution_count": null,
   "id": "1b770aa2",
   "metadata": {},
   "outputs": [],
   "source": [
    "# load the Netflix dataset\n",
    "data = pd.read_csv(\"netflix_titles.csv\")"
   ]
  },
  {
   "cell_type": "code",
   "execution_count": null,
   "id": "ef132f7f",
   "metadata": {},
   "outputs": [],
   "source": [
    "# Total number of records available in dataset\n",
    "total_records = len(data)\n",
    "print(\"Total number of records available in the dataset:\", total_records)"
   ]
  },
  {
   "cell_type": "code",
   "execution_count": null,
   "id": "30c672c9",
   "metadata": {},
   "outputs": [],
   "source": [
    "# Total number of records having any missing value\n",
    "missing_value_count = data.isnull().sum().sum()\n",
    "print(\"Total number of records having any missing value:\", missing_value_count)"
   ]
  },
  {
   "cell_type": "code",
   "execution_count": null,
   "id": "b500385b",
   "metadata": {},
   "outputs": [],
   "source": [
    "# Eliminate the missing values\n",
    "data = data.dropna()"
   ]
  },
  {
   "cell_type": "code",
   "execution_count": null,
   "id": "30c4c6bb",
   "metadata": {},
   "outputs": [],
   "source": [
    "# Visualize the number of records available country-wise\n",
    "records_by_country = data.groupby('country').size().sort_values(ascending=False)[:20]\n",
    "records_by_country.plot(kind='bar', x='country', y='count', title='Number of records available country-wise')\n",
    "plt.show()"
   ]
  },
  {
   "cell_type": "code",
   "execution_count": null,
   "id": "6c024fe2",
   "metadata": {},
   "outputs": [],
   "source": [
    "# Visualize the number of records rating-wise\n",
    "records_by_rating = data.groupby('rating').size()\n",
    "records_by_rating.plot(kind='bar', x='rating', y='count', title='Number of records available rating-wise')\n",
    "plt.show()"
   ]
  },
  {
   "cell_type": "code",
   "execution_count": null,
   "id": "7405be90",
   "metadata": {},
   "outputs": [],
   "source": [
    "# Visualize the number of records year-wise\n",
    "records_by_year = data.groupby('release_year').size()\n",
    "records_by_year.plot(kind='line', x='release_year', y='count', title='Number of records available year-wise')\n",
    "plt.show()"
   ]
  }
 ],
 "metadata": {
  "kernelspec": {
   "display_name": "Python 3 (ipykernel)",
   "language": "python",
   "name": "python3"
  },
  "language_info": {
   "codemirror_mode": {
    "name": "ipython",
    "version": 3
   },
   "file_extension": ".py",
   "mimetype": "text/x-python",
   "name": "python",
   "nbconvert_exporter": "python",
   "pygments_lexer": "ipython3",
   "version": "3.9.13"
  }
 },
 "nbformat": 4,
 "nbformat_minor": 5
}

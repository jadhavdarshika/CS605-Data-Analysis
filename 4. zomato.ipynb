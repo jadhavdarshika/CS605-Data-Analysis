{
 "cells": [
  {
   "cell_type": "code",
   "execution_count": null,
   "id": "2947fda2",
   "metadata": {},
   "outputs": [],
   "source": [
    "import pandas as pd\n",
    "import matplotlib.pyplot as plt"
   ]
  },
  {
   "cell_type": "code",
   "execution_count": null,
   "id": "95c4af14",
   "metadata": {},
   "outputs": [],
   "source": [
    "# load the zomato dataset\n",
    "data = pd.read_csv(\"zomato.csv\", encoding='ISO-8859-1')"
   ]
  },
  {
   "cell_type": "code",
   "execution_count": null,
   "id": "8b61c28d",
   "metadata": {},
   "outputs": [],
   "source": [
    "# find the country with the most restaurants\n",
    "country_count = data['Country Code'].value_counts()\n",
    "most_restaurants_country = country_count.index[0]\n",
    "print(\"Country with most restaurants:\", most_restaurants_country)"
   ]
  },
  {
   "cell_type": "code",
   "execution_count": null,
   "id": "b5d44ca8",
   "metadata": {},
   "outputs": [],
   "source": [
    "# find the country with the most restaurants with very good rating\n",
    "very_good_rating = data[data['Aggregate rating'] >= 4.0]\n",
    "country_count = very_good_rating['Country Code'].value_counts()\n",
    "most_very_good_rating_country = country_count.index[0]\n",
    "print(\"Country with most restaurants with Very Good Rating:\", most_very_good_rating_country)"
   ]
  },
  {
   "cell_type": "code",
   "execution_count": null,
   "id": "30e303c5",
   "metadata": {},
   "outputs": [],
   "source": [
    "# find the top 10 restaurants with highest ratings\n",
    "top_10_ratings = data[['Restaurant Name', 'Aggregate rating']].sort_values('Aggregate rating', ascending=False)[:10]\n",
    "\n",
    "print(\"Top 10 Restaurants with highest ratings:\\n\", top_10_ratings)"
   ]
  },
  {
   "cell_type": "code",
   "execution_count": null,
   "id": "b7b10f2b",
   "metadata": {},
   "outputs": [],
   "source": [
    "# find the restaurants with the highest numbers of feedback\n",
    "highest_feedback = data[['Restaurant Name', 'Votes']].sort_values('Votes', ascending=False)[:10]\n",
    "\n",
    "print(\"Restaurants with highest numbers of feedback:\\n\", highest_feedback)"
   ]
  },
  {
   "cell_type": "code",
   "execution_count": null,
   "id": "93100bee",
   "metadata": {},
   "outputs": [],
   "source": [
    "# visualize the results using bar charts\n",
    "fig, axs = plt.subplots(2, 2, figsize=(12, 8))\n",
    "plt.subplots_adjust(hspace=0.4)\n",
    "\n",
    "# bar chart for country with most restaurants\n",
    "axs[0, 0].bar(country_count.index, country_count.values)\n",
    "axs[0, 0].set_title(\"Country with most restaurants\")\n",
    "axs[0, 0].set_xlabel(\"Country Code\")\n",
    "axs[0, 0].set_ylabel(\"Number of restaurants\")\n",
    "\n",
    "# bar chart for country with most restaurants with very good rating\n",
    "axs[0, 1].bar(country_count.index, country_count.values)\n",
    "axs[0, 1].set_title(\"Country with most restaurants with Very Good Rating\")\n",
    "axs[0, 1].set_xlabel(\"Country Code\")\n",
    "axs[0, 1].set_ylabel(\"Number of restaurants\")\n",
    "\n",
    "# bar chart for top 10 restaurants with highest ratings\n",
    "axs[1, 0].bar(top_10_ratings['Restaurant Name'], top_10_ratings['Aggregate rating'])\n",
    "axs[1, 0].set_title(\"Top 10 Restaurants with highest ratings\")\n",
    "axs[1, 0].set_xlabel(\"Restaurant Name\")\n",
    "axs[1, 0].set_ylabel(\"Aggregate rating\")\n",
    "axs[1, 0].tick_params(axis='x', labelrotation=45)\n",
    "\n",
    "# bar chart for restaurants with highest numbers of feedback\n",
    "axs[1, 1].bar(highest_feedback['Restaurant Name'], highest_feedback['Votes'])\n",
    "axs[1, 1].set_title(\"Restaurants with highest numbers of feedback\")\n",
    "axs[1, 1].set_xlabel(\"Restaurant Name\")\n",
    "axs[1, 1].set_ylabel(\"Number of votes\")\n",
    "axs[1, 1].tick_params(axis='x', labelrotation=45)\n",
    "\n",
    "plt.show()\n"
   ]
  }
 ],
 "metadata": {
  "kernelspec": {
   "display_name": "Python 3 (ipykernel)",
   "language": "python",
   "name": "python3"
  },
  "language_info": {
   "codemirror_mode": {
    "name": "ipython",
    "version": 3
   },
   "file_extension": ".py",
   "mimetype": "text/x-python",
   "name": "python",
   "nbconvert_exporter": "python",
   "pygments_lexer": "ipython3",
   "version": "3.9.13"
  }
 },
 "nbformat": 4,
 "nbformat_minor": 5
}

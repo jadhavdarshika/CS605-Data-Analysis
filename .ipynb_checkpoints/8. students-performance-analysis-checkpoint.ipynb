{
 "cells": [
  {
   "cell_type": "code",
   "execution_count": null,
   "id": "c6485022",
   "metadata": {},
   "outputs": [],
   "source": [
    "import pandas as pd\n",
    "import matplotlib.pyplot as plt"
   ]
  },
  {
   "cell_type": "code",
   "execution_count": null,
   "id": "2a5d4647",
   "metadata": {},
   "outputs": [],
   "source": [
    "# Load the dataset\n",
    "df = pd.read_csv('StudentsPerformance.csv')"
   ]
  },
  {
   "cell_type": "code",
   "execution_count": null,
   "id": "04d40c85",
   "metadata": {},
   "outputs": [],
   "source": [
    "# Percentage of students with standard lunch\n",
    "lunch_counts = df['lunch'].value_counts(normalize=True) * 100\n",
    "print('Percentage of students with standard lunch:\\n', lunch_counts)"
   ]
  },
  {
   "cell_type": "code",
   "execution_count": null,
   "id": "261c278e",
   "metadata": {},
   "outputs": [],
   "source": [
    "# Visualize the percentage of students categorized according to lunch\n",
    "lunch_counts.plot(kind='pie', title='Percentage of students with standard lunch')\n",
    "\n",
    "# Visualize the percentage of students who completed the test preparation course\n",
    "prep_counts = df['test preparation course'].value_counts(normalize=True) * 100\n",
    "prep_counts.plot(kind='pie', title='Percentage of students who completed the test preparation course')\n",
    "\n",
    "# Visualize the average math score of male and female students\n",
    "gender_math = df.groupby('gender')['math score'].mean()\n",
    "gender_math.plot(kind='bar', title='Average math score of male and female students')\n",
    "\n",
    "# Visualize the average score (average of math score, reading score and writing score) gender wise and race/ethnicity wise\n",
    "avg_score = df.groupby(['gender', 'race/ethnicity'])[['math score', 'reading score', 'writing score']].mean()\n",
    "avg_score.plot(kind='bar', title='Average score gender wise and race/ethnicity wise')\n",
    "\n",
    "# Visualize the number of students according to parental level of education\n",
    "parent_counts = df['parental level of education'].value_counts()\n",
    "parent_counts.plot(kind='pie', title='Number of students according to parental level of education')\n",
    "\n",
    "plt.show()"
   ]
  }
 ],
 "metadata": {
  "kernelspec": {
   "display_name": "Python 3 (ipykernel)",
   "language": "python",
   "name": "python3"
  },
  "language_info": {
   "codemirror_mode": {
    "name": "ipython",
    "version": 3
   },
   "file_extension": ".py",
   "mimetype": "text/x-python",
   "name": "python",
   "nbconvert_exporter": "python",
   "pygments_lexer": "ipython3",
   "version": "3.9.13"
  }
 },
 "nbformat": 4,
 "nbformat_minor": 5
}
